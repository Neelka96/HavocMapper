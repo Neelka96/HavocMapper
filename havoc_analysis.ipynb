{
 "cells": [
  {
   "cell_type": "markdown",
   "metadata": {},
   "source": [
    "# HavocMapper Analysis and Visuals\n",
    "## By Multiple Collaborators\n",
    "---"
   ]
  },
  {
   "cell_type": "markdown",
   "metadata": {},
   "source": [
    "### Imports and bringing in cleaned CSV file"
   ]
  },
  {
   "cell_type": "code",
   "execution_count": null,
   "metadata": {},
   "outputs": [],
   "source": [
    "# Dependencies\n",
    "import pandas as pd\n",
    "import matplotlib.pyplot as plt\n",
    "import seaborn as sns\n",
    "import warnings\n",
    "warnings.filterwarnings('ignore')"
   ]
  },
  {
   "cell_type": "code",
   "execution_count": null,
   "metadata": {},
   "outputs": [],
   "source": [
    "# Bring in refined CSV file\n",
    "fema_disasters = pd.read_csv('Assets/CSVs/femaDisasters_clean.csv')\n",
    "\n",
    "# Bring in summary CSV File\n",
    "disasters_summary = pd.read_csv('Assets/CSVs/disasters_summary.csv')"
   ]
  },
  {
   "cell_type": "markdown",
   "metadata": {},
   "source": [
    "## Alex's Section"
   ]
  },
  {
   "cell_type": "code",
   "execution_count": null,
   "metadata": {},
   "outputs": [],
   "source": [
    "disasters_alex = fema_disasters.copy()"
   ]
  },
  {
   "cell_type": "code",
   "execution_count": null,
   "metadata": {},
   "outputs": [],
   "source": [
    "grouped_data = disasters_alex.groupby(['incidentType', 'state', 'declarationTitle']).size().reset_index(name='count')\n",
    "grouped_data.head(15)"
   ]
  },
  {
   "cell_type": "code",
   "execution_count": null,
   "metadata": {},
   "outputs": [],
   "source": [
    "disaster_by_state = disasters_alex.groupby('state').size().reset_index(name='total_disasters')\n",
    "disaster_by_state = disaster_by_state.sort_values(by='total_disasters', ascending=False)\n",
    "disaster_by_state"
   ]
  },
  {
   "cell_type": "code",
   "execution_count": null,
   "metadata": {},
   "outputs": [],
   "source": [
    "disaster_by_type = disasters_alex.groupby(['state', 'incidentType']).size().reset_index(name='count')\n",
    "disaster_by_type = disaster_by_type.sort_values(by='count', ascending=False)\n",
    "disaster_by_type.head(25)"
   ]
  },
  {
   "cell_type": "code",
   "execution_count": null,
   "metadata": {},
   "outputs": [],
   "source": [
    "top_states = disaster_by_state.head(10)\n",
    "plt.figure(figsize=(12, 6))\n",
    "plt.bar(top_states['state'], top_states['total_disasters'], color='skyblue')\n",
    "plt.xlabel('State')\n",
    "plt.ylabel('Total Disasters')\n",
    "plt.title('Top 10 States with the Most Natural Disasters')\n",
    "plt.xticks(rotation=45)\n",
    "plt.tight_layout()\n",
    "plt.show()\n",
    "plt.savefig('Assets/Figures/Alex/Top10_States_MostDisasters')"
   ]
  },
  {
   "cell_type": "code",
   "execution_count": null,
   "metadata": {},
   "outputs": [],
   "source": [
    "top_disaster_types = disaster_by_type.groupby('incidentType')['count'].sum().reset_index()\n",
    "top_disaster_types = top_disaster_types.sort_values(by='count', ascending=False).head(10)\n",
    "plt.figure(figsize=(12, 6))\n",
    "plt.bar(top_disaster_types['incidentType'], top_disaster_types['count'], color='orange')\n",
    "plt.xlabel('Disaster Type')\n",
    "plt.ylabel('Count')\n",
    "plt.title('Top 10 Most Frequent Disaster Types')\n",
    "plt.xticks(rotation=45)\n",
    "plt.tight_layout()\n",
    "plt.show()\n",
    "plt.savefig('Assets/Figures/Alex/Top10_MostFrequent_Disasters')"
   ]
  },
  {
   "cell_type": "code",
   "execution_count": null,
   "metadata": {},
   "outputs": [],
   "source": [
    "most_common_disasters = disaster_by_type.loc[\n",
    "    disaster_by_type.groupby('state')['count'].idxmax()]\n",
    "most_common_disasters = most_common_disasters.sort_values(by='count', ascending=False)\n",
    "most_common_disasters\n"
   ]
  },
  {
   "cell_type": "code",
   "execution_count": null,
   "metadata": {},
   "outputs": [],
   "source": [
    "top_states_disasters = most_common_disasters.head(10)\n",
    "states = top_states_disasters['state']\n",
    "disasters = top_states_disasters['incidentType']\n",
    "counts = top_states_disasters['count']\n",
    "\n",
    "plt.figure(figsize=(12, 6))\n",
    "plt.bar(states, counts, color='violet')\n",
    "for i, disaster in enumerate(disasters):\n",
    "    plt.text(i, counts.iloc[i] + 0.5, disaster, ha='center', fontsize=8)\n",
    "plt.xlabel('State')\n",
    "plt.ylabel('Number of Disasters')\n",
    "plt.title('Most Common Natural Disasters in Each Top State', fontsize=16)\n",
    "plt.xticks(rotation=45)\n",
    "plt.tight_layout()\n",
    "plt.xticks(rotation=60, fontsize=12)\n",
    "plt.yticks(fontsize=12)\n",
    "plt.show()\n",
    "plt.savefig('Assets/Figures/Alex/MostCommonDisasters_byTopStates')"
   ]
  },
  {
   "cell_type": "code",
   "execution_count": null,
   "metadata": {},
   "outputs": [],
   "source": [
    "incident_counts = disasters_alex['incidentType'].value_counts()\n",
    "max_disasters = incident_counts.max()\n",
    "min_disasters = incident_counts.min()\n",
    "max_disaster_type = incident_counts.idxmax()\n",
    "min_disaster_type = incident_counts.idxmin()\n",
    "print(f\"Maximum disasters: {max_disasters} ({max_disaster_type})\")\n",
    "print(f\"Minimum disasters: {min_disasters} ({min_disaster_type})\")"
   ]
  },
  {
   "cell_type": "code",
   "execution_count": null,
   "metadata": {},
   "outputs": [],
   "source": [
    "texas_disasters = disasters_alex[disasters_alex['state'] == 'TX']\n",
    "num_texas_disasters = texas_disasters.shape[0]\n",
    "print(f\"Texas had {num_texas_disasters} natural disasters.\")"
   ]
  },
  {
   "cell_type": "code",
   "execution_count": null,
   "metadata": {},
   "outputs": [],
   "source": [
    "disasters_alex['declarationDate'] = pd.to_datetime(disasters_alex['declarationDate'], errors='coerce')\n",
    "data = disasters_alex.dropna(subset=['declarationDate'])\n",
    "data['Month'] = disasters_alex['declarationDate'].dt.month\n",
    "def assign_season(month):\n",
    "    if month in [12, 1, 2]:\n",
    "        return 'Winter'\n",
    "    elif month in [3, 4, 5]:\n",
    "        return 'Spring'\n",
    "    elif month in [6, 7, 8]:\n",
    "        return 'Summer'\n",
    "    elif month in [9, 10, 11]:\n",
    "        return 'Fall'\n",
    "data['Season'] = data['Month'].apply(assign_season)\n",
    "monthly_counts = data['Month'].value_counts().sort_index()\n",
    "seasonal_counts = data['Season'].value_counts()\n",
    "print(\"Disaster Occurrences by Month:\")\n",
    "print(monthly_counts)\n",
    "\n",
    "print(\"\\nDisaster Occurrences by Season:\")\n",
    "print(seasonal_counts)"
   ]
  },
  {
   "cell_type": "code",
   "execution_count": null,
   "metadata": {},
   "outputs": [],
   "source": [
    "hurricane_counts = data[data['incidentType'] == 'Hurricane'].groupby('state').size()\n",
    "most_hurricanes_state = hurricane_counts.idxmax()\n",
    "most_hurricanes_count = hurricane_counts.max()\n",
    "print(f\"The state with the most hurricanes is {most_hurricanes_state} with {most_hurricanes_count} hurricanes.\")\n"
   ]
  },
  {
   "cell_type": "code",
   "execution_count": null,
   "metadata": {},
   "outputs": [],
   "source": [
    "severe_storm_counts = data[data['incidentType'] == 'Severe Storm'].groupby('state').size()\n",
    "most_severe_storms_state = severe_storm_counts.idxmax()\n",
    "most_severe_storms_count = severe_storm_counts.max()\n",
    "print(f\"The state with the most severe storms is {most_severe_storms_state} with {most_severe_storms_count} severe storms.\")\n"
   ]
  },
  {
   "cell_type": "markdown",
   "metadata": {},
   "source": [
    "## Avenika's Section"
   ]
  },
  {
   "cell_type": "code",
   "execution_count": null,
   "metadata": {},
   "outputs": [],
   "source": [
    "disasters_avenika = fema_disasters.copy()"
   ]
  },
  {
   "cell_type": "code",
   "execution_count": null,
   "metadata": {},
   "outputs": [],
   "source": [
    "earliest_declaration_year = disasters_avenika[\"declarationDate\"].min()\n",
    "earliest_declaration_year"
   ]
  },
  {
   "cell_type": "code",
   "execution_count": null,
   "metadata": {},
   "outputs": [],
   "source": [
    "latest_declaration_year = disasters_avenika[\"declarationDate\"].max()\n",
    "latest_declaration_year"
   ]
  },
  {
   "cell_type": "code",
   "execution_count": null,
   "metadata": {},
   "outputs": [],
   "source": [
    "total_of_natural_disaster = disasters_avenika[\"incidentType\"].count()\n",
    "total_of_natural_disaster"
   ]
  },
  {
   "cell_type": "code",
   "execution_count": null,
   "metadata": {},
   "outputs": [],
   "source": [
    "# Counts of declaration types \n",
    "# DR = Major Disasters, EM = Emergency Declatation, FM = Fire Management)\n",
    "# For more info see README (in progress)\n",
    "disasters_avenika['declarationType'].value_counts()"
   ]
  },
  {
   "cell_type": "code",
   "execution_count": null,
   "metadata": {},
   "outputs": [],
   "source": [
    "# Counts of natural disaster types\n",
    "disasters_avenika['incidentType'].value_counts()"
   ]
  },
  {
   "cell_type": "code",
   "execution_count": null,
   "metadata": {},
   "outputs": [],
   "source": [
    "# Validating no NaNs\n",
    "disasters_avenika.count()"
   ]
  },
  {
   "cell_type": "code",
   "execution_count": null,
   "metadata": {},
   "outputs": [],
   "source": [
    "# Filter: Natural disasters per State\n",
    "disasters_avenika['state'].value_counts()"
   ]
  },
  {
   "cell_type": "code",
   "execution_count": null,
   "metadata": {},
   "outputs": [],
   "source": [
    "# Filter: Natural disasters per hit area\n",
    "disasters_avenika['designatedArea'].value_counts()"
   ]
  },
  {
   "cell_type": "code",
   "execution_count": null,
   "metadata": {},
   "outputs": [],
   "source": [
    "# Extract decleration_year from declarationDate\n",
    "\n",
    "declarationDate = disasters_avenika[\"declarationDate\"]\n",
    "df= pd.DataFrame(declarationDate)\n",
    "df[\"declarationDate\"] = pd.to_datetime(df[\"declarationDate\"])\n",
    "df[\"declaration_year\"] = df[\"declarationDate\"].dt.year\n",
    "print(df)\n",
    "\n",
    "# Count disasters by year\n",
    "#yearly_disasters = [\"declaration_year\"].value_counts().sort_index()\n",
    "\n",
    "# Plot trends over time\n",
    "# plt.plot(yearly_disasters.index, yearly_disasters.values, marker='o')\n",
    "# plt.title(\"Number of Disasters Over Time\")\n",
    "# plt.xlabel(\"Year\")\n",
    "# plt.ylabel(\"Count of Disasters\")\n",
    "# plt.grid()\n",
    "# plt.show()"
   ]
  },
  {
   "cell_type": "code",
   "execution_count": null,
   "metadata": {},
   "outputs": [],
   "source": [
    "declaration_year = df[\"declaration_year\"]\n",
    "declaration_year.head()"
   ]
  },
  {
   "cell_type": "code",
   "execution_count": null,
   "metadata": {},
   "outputs": [],
   "source": [
    "#adding declaration_year to disasters_avenika data set \n",
    "disasters_avenika[\"declaration_year\"] = df[\"declaration_year\"]\n",
    "disasters_avenika.head()"
   ]
  },
  {
   "cell_type": "code",
   "execution_count": null,
   "metadata": {},
   "outputs": [],
   "source": [
    "#Count Severe Stroms trend by year \n",
    "\n",
    "sever_storms_by_year = disasters_avenika.groupby(\"declaration_year\")[\"incidentType\"].value_counts().sort_index()\n",
    "sever_storms_by_year"
   ]
  },
  {
   "cell_type": "code",
   "execution_count": null,
   "metadata": {},
   "outputs": [],
   "source": [
    "disasters_avenika[\"incidentType\"].value_counts()"
   ]
  },
  {
   "cell_type": "code",
   "execution_count": null,
   "metadata": {},
   "outputs": [],
   "source": [
    "# Count Severe Storm data by year\n",
    "# Your original code, generating the count of incident types by year\n",
    "sever_storms_by_year = disasters_avenika.groupby(\"declaration_year\")[\"incidentType\"].value_counts().sort_index()\n",
    "\n",
    "# Filter for 'Severe Storm' and create a new series for plotting\n",
    "severe_storms = sever_storms_by_year.xs(\"Severe Storm\", level=\"incidentType\")\n",
    "\n",
    "# Plotting the data\n",
    "severe_storms.plot(kind='line', figsize=(10, 6), color='b', marker='o')\n",
    "\n",
    "# Adding title and labels\n",
    "plt.title('Trend of Severe Storm by Year')\n",
    "plt.xlabel('Year')\n",
    "plt.ylabel('Number of Severe Storm Storms')\n",
    "plt.grid(True)\n",
    "\n",
    "# Show the plot\n",
    "plt.show()"
   ]
  },
  {
   "cell_type": "code",
   "execution_count": null,
   "metadata": {},
   "outputs": [],
   "source": [
    "#Statistial Data on Sever Storme \n",
    "sever_storm_data = severe_storms.describe()\n",
    "sever_storm_data"
   ]
  },
  {
   "cell_type": "code",
   "execution_count": null,
   "metadata": {},
   "outputs": [],
   "source": [
    "#Count Hurricane trend by year \n",
    "# Your original code, generating the count of incident types by year\n",
    "hurricane_by_year = disasters_avenika.groupby(\"declaration_year\")[\"incidentType\"].value_counts().sort_index()\n",
    "\n",
    "# Filter for 'Huricanes' and create a new series for plotting\n",
    "hurricane_data = hurricane_by_year.xs(\"Hurricane\", level=\"incidentType\")\n",
    "\n",
    "# Plotting the data\n",
    "hurricane_data.plot(kind='line', figsize=(10, 6), color='b', marker='o')\n",
    "\n",
    "# Adding title and labels\n",
    "plt.title('Trend of Hurricanes by Year')\n",
    "plt.xlabel('Year')\n",
    "plt.ylabel('Number of Hurricanes')\n",
    "plt.grid(True)\n",
    "\n",
    "# Show the plot\n",
    "plt.show()"
   ]
  },
  {
   "cell_type": "code",
   "execution_count": null,
   "metadata": {},
   "outputs": [],
   "source": [
    "#Statistial Data on Sever Storme \n",
    "hurricane_describe = hurricane_data.describe()\n",
    "hurricane_describe"
   ]
  },
  {
   "cell_type": "code",
   "execution_count": null,
   "metadata": {},
   "outputs": [],
   "source": [
    "#Count Flood trend by year \n",
    "# Your original code, generating the count of incident types by year\n",
    "flood_by_year = disasters_avenika.groupby(\"declaration_year\")[\"incidentType\"].value_counts().sort_index()\n",
    "\n",
    "# Filter for 'Severe Storm' and create a new series for plotting\n",
    "flood_data = flood_by_year.xs(\"Flood\", level=\"incidentType\")\n",
    "\n",
    "# Plotting the data\n",
    "flood_data.plot(kind='line', figsize=(10, 6), color='b', marker='o')\n",
    "\n",
    "# Adding title and labels\n",
    "plt.title('Trend of Floods by Year')\n",
    "plt.xlabel('Year')\n",
    "plt.ylabel('Number of Floods')\n",
    "plt.grid(True)\n",
    "\n",
    "# Show the plot\n",
    "plt.show()"
   ]
  },
  {
   "cell_type": "code",
   "execution_count": null,
   "metadata": {},
   "outputs": [],
   "source": [
    "#Statistial Data on Flood \n",
    "flood_data = flood_by_year.describe()\n",
    "flood_data"
   ]
  },
  {
   "cell_type": "markdown",
   "metadata": {},
   "source": [
    "## Claudia's Section"
   ]
  },
  {
   "cell_type": "code",
   "execution_count": null,
   "metadata": {},
   "outputs": [],
   "source": [
    "disasters_claudia = fema_disasters.copy()"
   ]
  },
  {
   "cell_type": "code",
   "execution_count": null,
   "metadata": {},
   "outputs": [],
   "source": [
    "# Sample top of data\n",
    "disasters_claudia.head()"
   ]
  },
  {
   "cell_type": "code",
   "execution_count": null,
   "metadata": {},
   "outputs": [],
   "source": [
    "# Convert dates to datetime\n",
    "disasters_claudia['declarationDate'] = pd.to_datetime(disasters_claudia['declarationDate'])\n",
    "disasters_claudia['incidentBeginDate'] = pd.to_datetime(disasters_claudia['incidentBeginDate'])\n",
    "\n",
    "# Calculate time to declare\n",
    "disasters_claudia['time_to_declare'] = (disasters_claudia['declarationDate'] - disasters_claudia['incidentBeginDate']).dt.days\n",
    "\n",
    "# # Summary statistics for time_to_declare\n",
    "disasters_claudia['time_to_declare'].describe()"
   ]
  },
  {
   "cell_type": "code",
   "execution_count": null,
   "metadata": {},
   "outputs": [],
   "source": [
    "program_cols = ['ihProgramDeclared', 'iaProgramDeclared', 'paProgramDeclared', 'hmProgramDeclared']\n",
    "disasters_claudia[program_cols].sum()"
   ]
  },
  {
   "cell_type": "code",
   "execution_count": null,
   "metadata": {},
   "outputs": [],
   "source": [
    "disasters_claudia['total_programs'] = disasters_claudia[program_cols].sum(axis = 1)"
   ]
  },
  {
   "cell_type": "code",
   "execution_count": null,
   "metadata": {},
   "outputs": [],
   "source": [
    "#correlation matrix\n",
    "program_cols = ['ihProgramDeclared', 'iaProgramDeclared', 'paProgramDeclared', 'hmProgramDeclared']\n",
    "program_cols"
   ]
  },
  {
   "cell_type": "code",
   "execution_count": null,
   "metadata": {},
   "outputs": [],
   "source": [
    "#corelation matrix\n",
    "disasters_claudia[program_cols].corr()"
   ]
  },
  {
   "cell_type": "code",
   "execution_count": null,
   "metadata": {},
   "outputs": [],
   "source": [
    "state_disaster_count = disasters_claudia['state'].value_counts()\n",
    "\n",
    "# Plot\n",
    "state_disaster_count.plot(kind='bar', figsize=(10, 6), title=\"Disaster Count by State\")\n",
    "plt.xlabel(\"State\")\n",
    "plt.ylabel(\"Number of Disasters\")\n",
    "plt.show()"
   ]
  },
  {
   "cell_type": "code",
   "execution_count": null,
   "metadata": {},
   "outputs": [],
   "source": [
    "# Extract year from declarationDate\n",
    "disasters_claudia['declarationYear'] = disasters_claudia['declarationDate'].dt.year\n",
    "\n",
    "# Count disasters by year\n",
    "yearly_disasters = disasters_claudia['declarationYear'].value_counts().sort_index()\n",
    "\n",
    "# Plot trends over time\n",
    "plt.plot(yearly_disasters.index, yearly_disasters.values, marker='o')\n",
    "plt.title(\"Number of Disasters Over Time\")\n",
    "plt.xlabel(\"Year\")\n",
    "plt.ylabel(\"Count of Disasters\")\n",
    "plt.grid()\n",
    "plt.show()"
   ]
  },
  {
   "cell_type": "code",
   "execution_count": null,
   "metadata": {},
   "outputs": [],
   "source": [
    "# Filter disasters between 2000 and 2010\n",
    "disasters_claudia['declarationDate'] = pd.to_datetime(disasters_claudia['declarationDate'])\n",
    "disasters_2000_2010 = disasters_claudia[\n",
    "    (disasters_claudia['declarationDate'] >= '2000-01-01') & (disasters_claudia['declarationDate'] <= '2010-12-31')\n",
    "]\n",
    "\n",
    "# Display the filtered dataset\n",
    "disasters_2000_2010[['incidentType', 'state', 'declarationDate']]\n"
   ]
  },
  {
   "cell_type": "code",
   "execution_count": null,
   "metadata": {},
   "outputs": [],
   "source": [
    "# Extract year from declarationDate\n",
    "disasters_2000_2010['year'] = disasters_2000_2010['declarationDate'].dt.year\n",
    "\n",
    "# Count disasters by year\n",
    "yearly_disasters = disasters_2000_2010['year'].value_counts().sort_index()\n",
    "\n",
    "# Plot the results\n",
    "plt.figure(figsize=(12, 6))\n",
    "plt.plot(yearly_disasters.index, yearly_disasters.values, marker='o', linestyle='-', label=\"Total Disasters\")\n",
    "plt.title(\"Number of Disasters (2000-2010)\")\n",
    "plt.xlabel(\"Year\")\n",
    "plt.ylabel(\"Number of Disasters\")\n",
    "plt.grid()\n",
    "plt.legend()\n",
    "plt.show()"
   ]
  },
  {
   "cell_type": "code",
   "execution_count": null,
   "metadata": {},
   "outputs": [],
   "source": [
    "# Filter disasters for 2005\n",
    "disasters_2005 = disasters_claudia[disasters_claudia['declarationDate'].dt.year == 2005]\n",
    "\n",
    "# Display the dataset for 2005\n",
    "disasters_2005[['incidentType', 'state', 'declarationDate']]"
   ]
  },
  {
   "cell_type": "code",
   "execution_count": null,
   "metadata": {},
   "outputs": [],
   "source": [
    "# Count disasters by state\n",
    "state_count_2005 = disasters_2005['state'].value_counts()\n",
    "\n",
    "# Display results\n",
    "print(state_count_2005)\n"
   ]
  },
  {
   "cell_type": "code",
   "execution_count": null,
   "metadata": {},
   "outputs": [],
   "source": [
    "# Extract the month from the declaration date\n",
    "disasters_2005['month'] = disasters_2005['declarationDate'].dt.month\n",
    "\n",
    "# Count disasters by month\n",
    "monthly_disasters_2005 = disasters_2005['month'].value_counts().sort_index()\n",
    "\n",
    "# Display results\n",
    "monthly_disasters_2005\n"
   ]
  },
  {
   "cell_type": "markdown",
   "metadata": {},
   "source": [
    "Above we see that in the year 2005 september there was the highest spike of natural disasters "
   ]
  },
  {
   "cell_type": "code",
   "execution_count": null,
   "metadata": {},
   "outputs": [],
   "source": [
    "# Filter for a specific incident type (e.g., \"Hurricane\")\n",
    "hurricane_2005 = disasters_2005[disasters_2005['incidentType'] == 'Hurricane']\n",
    "\n",
    "# Display hurricane data for 2005\n",
    "hurricane_2005[['state', 'declarationDate']]\n"
   ]
  },
  {
   "cell_type": "code",
   "execution_count": null,
   "metadata": {},
   "outputs": [],
   "source": [
    "# Group data by year and count the number of disasters\n",
    "yearly_disasters = disasters_claudia['declarationYear'].value_counts().sort_index()\n",
    "\n",
    "# Calculate percentage change year-over-year\n",
    "yearly_disasters_percentage_change = yearly_disasters.pct_change() * 100  # Convert to percentage\n",
    "\n",
    "# Combine the counts and percentage change into a single DataFrame for better visualization\n",
    "yearly_disasters_summary = pd.DataFrame({\n",
    "    'Disaster Count': yearly_disasters,\n",
    "    'Percentage Change (%)': yearly_disasters_percentage_change\n",
    "})\n",
    "\n",
    "# Display the summary\n",
    "yearly_disasters_summary\n"
   ]
  },
  {
   "cell_type": "code",
   "execution_count": null,
   "metadata": {},
   "outputs": [],
   "source": [
    "plt.figure(figsize=(10, 6))\n",
    "plt.bar(yearly_disasters.index, yearly_disasters.values, alpha=0.7, label=\"Disaster Count\")\n",
    "plt.plot(yearly_disasters.index, yearly_disasters_percentage_change, marker='o', color='orange', label=\"Percentage Change (%)\")\n",
    "plt.title(\"Year-over-Year Changes in Disasters\")\n",
    "plt.xlabel(\"Year\")\n",
    "plt.ylabel(\"Disaster Count and Percentage Change\")\n",
    "plt.axhline(0, color='gray', linestyle='--', linewidth=0.8)\n",
    "plt.legend()\n",
    "plt.grid()\n",
    "plt.show()"
   ]
  },
  {
   "cell_type": "code",
   "execution_count": null,
   "metadata": {},
   "outputs": [],
   "source": [
    "# Find the year with the largest percentage change\n",
    "max_change_year = yearly_disasters_summary['Percentage Change (%)'].idxmax()\n",
    "max_change_value = yearly_disasters_summary['Percentage Change (%)'].max()\n",
    "\n",
    "# Calculate the average percentage change (excluding the first NaN value)\n",
    "average_change = yearly_disasters_summary['Percentage Change (%)'].mean()\n",
    "\n",
    "# Print results\n",
    "print(f\"Year with the largest percentage change: {max_change_year} ({max_change_value:.2f}%)\")\n",
    "print(f\"Average percentage change: {average_change:.2f}%\")"
   ]
  },
  {
   "cell_type": "markdown",
   "metadata": {},
   "source": [
    "Above we can see that Natural Disasters declared by FEMA over time has significantly increased"
   ]
  },
  {
   "cell_type": "code",
   "execution_count": null,
   "metadata": {},
   "outputs": [],
   "source": [
    "time_by_state = disasters_claudia.groupby('state')['time_to_declare'].mean().sort_values()\n",
    "time_by_state"
   ]
  },
  {
   "cell_type": "code",
   "execution_count": null,
   "metadata": {},
   "outputs": [],
   "source": [
    "time_by_incident = disasters_claudia.groupby('incidentType')['time_to_declare'].mean().sort_values()\n",
    "time_by_incident"
   ]
  },
  {
   "cell_type": "code",
   "execution_count": null,
   "metadata": {},
   "outputs": [],
   "source": [
    "plt.figure(figsize=(12, 6))\n",
    "plt.scatter(disasters_claudia['state'], disasters_claudia['time_to_declare'], alpha=0.5)\n",
    "plt.title(\"Time to Declare by State\")\n",
    "plt.xlabel(\"State\")\n",
    "plt.ylabel(\"Days to Declare\")\n",
    "plt.xticks(rotation=90)\n",
    "plt.show()"
   ]
  },
  {
   "cell_type": "code",
   "execution_count": null,
   "metadata": {},
   "outputs": [],
   "source": [
    "disasters_claudia['cycle_time'] = disasters_claudia['declarationDate'] - disasters_claudia['incidentBeginDate']\n",
    "disasters_claudia['cycle_time'] = disasters_claudia['cycle_time'].dt.days\n",
    "cycle_time_by_state = disasters_claudia.groupby('state')['cycle_time'].mean().sort_values()\n",
    "cycle_time_by_state"
   ]
  },
  {
   "cell_type": "code",
   "execution_count": null,
   "metadata": {},
   "outputs": [],
   "source": [
    "# Summary statistics for cycle time by incident type\n",
    "incident_type_analysis = disasters_claudia.groupby('incidentType')['cycle_time'].describe()\n",
    "\n",
    "# Display the result\n",
    "print(incident_type_analysis)"
   ]
  },
  {
   "cell_type": "code",
   "execution_count": null,
   "metadata": {},
   "outputs": [],
   "source": [
    "# Average cycle time by incident type\n",
    "average_cycle_time = disasters_claudia.groupby('incidentType')['cycle_time'].mean().sort_values()\n",
    "\n",
    "# Display the result\n",
    "print(average_cycle_time)"
   ]
  },
  {
   "cell_type": "code",
   "execution_count": null,
   "metadata": {},
   "outputs": [],
   "source": [
    "# Plot average cycle time\n",
    "plt.figure(figsize=(12, 6))\n",
    "average_cycle_time.plot(kind='bar', color='skyblue')\n",
    "plt.title('Average Cycle Time by Incident Type')\n",
    "plt.xlabel('Incident Type')\n",
    "plt.ylabel('Average Cycle Time (days)')\n",
    "plt.xticks(rotation=45)\n",
    "plt.grid(axis='y', linestyle='--', alpha=0.7)\n",
    "plt.show()"
   ]
  },
  {
   "cell_type": "code",
   "execution_count": null,
   "metadata": {},
   "outputs": [],
   "source": [
    "# Create a box plot\n",
    "plt.figure(figsize=(12, 6))\n",
    "sns.boxplot(x='incidentType', y='cycle_time', data=disasters_claudia, palette='Set3')\n",
    "plt.title('Cycle Time Distribution by Incident Type')\n",
    "plt.xlabel('Incident Type')\n",
    "plt.ylabel('Cycle Time (days)')\n",
    "plt.xticks(rotation=45)\n",
    "plt.grid(axis='y', linestyle='--', alpha=0.7)\n",
    "plt.show()"
   ]
  },
  {
   "cell_type": "code",
   "execution_count": null,
   "metadata": {},
   "outputs": [],
   "source": [
    "# Sort the data by declarationDate\n",
    "disasters_claudia_sorted = disasters_claudia.sort_values(by='declarationDate')\n",
    "\n",
    "# Display the sorted dataset\n",
    "disasters_claudia_sorted[['incidentType', 'state', 'declarationDate']]"
   ]
  },
  {
   "cell_type": "code",
   "execution_count": null,
   "metadata": {},
   "outputs": [],
   "source": [
    "# Filter by a specific incident type\n",
    "specific_incident = disasters_claudia_sorted[disasters_claudia_sorted['incidentType'] == 'Fire']\n",
    "\n",
    "# Display states and dates for the specific incident type\n",
    "print(specific_incident[['state', 'declarationDate']])"
   ]
  },
  {
   "cell_type": "code",
   "execution_count": null,
   "metadata": {},
   "outputs": [],
   "source": [
    "# Count disasters by state\n",
    "state_disaster_count = disasters_claudia['state'].value_counts()\n",
    "\n",
    "# Display the state with the most disasters\n",
    "most_disaster_state = state_disaster_count.idxmax()\n",
    "most_disaster_count = state_disaster_count.max()\n",
    "print(f\"The state with the most disasters is {most_disaster_state} with {most_disaster_count} disasters.\")"
   ]
  },
  {
   "cell_type": "code",
   "execution_count": null,
   "metadata": {},
   "outputs": [],
   "source": [
    "# Filter the dataset for the state with the most disasters\n",
    "state_with_most_disasters = disasters_claudia[disasters_claudia['state'] == most_disaster_state]\n",
    "\n",
    "# Count incident types in that state\n",
    "incident_type_count = state_with_most_disasters['incidentType'].value_counts()\n",
    "\n",
    "# Display the most common incident type\n",
    "most_common_incident = incident_type_count.idxmax()\n",
    "most_common_count = incident_type_count.max()\n",
    "print(f\"The most common incident type in {most_disaster_state} is {most_common_incident} with {most_common_count} occurrences.\")"
   ]
  },
  {
   "cell_type": "code",
   "execution_count": null,
   "metadata": {},
   "outputs": [],
   "source": [
    "# Group by state and incident type, then count\n",
    "state_incident_summary = disasters_claudia.groupby(['state', 'incidentType']).size().unstack(fill_value=0)\n",
    "\n",
    "# Find the most common incident type for each state\n",
    "most_common_by_state = state_incident_summary.idxmax(axis=1)\n",
    "most_common_count_by_state = state_incident_summary.max(axis=1)\n",
    "\n",
    "# Combine results into a DataFrame\n",
    "state_summary = pd.DataFrame({\n",
    "    'Most Common Incident Type': most_common_by_state,\n",
    "    'Count of Most Common Type': most_common_count_by_state,\n",
    "    'Total Disasters': state_disaster_count\n",
    "}).reset_index().rename(columns={'index': 'State'})\n",
    "\n",
    "# Display the full summary\n",
    "print(state_summary)"
   ]
  },
  {
   "cell_type": "markdown",
   "metadata": {},
   "source": [
    "## Neel's Section"
   ]
  },
  {
   "cell_type": "markdown",
   "metadata": {},
   "source": []
  }
 ],
 "metadata": {
  "kernelspec": {
   "display_name": "base",
   "language": "python",
   "name": "python3"
  },
  "language_info": {
   "name": "python",
   "version": "3.12.7"
  }
 },
 "nbformat": 4,
 "nbformat_minor": 2
}
